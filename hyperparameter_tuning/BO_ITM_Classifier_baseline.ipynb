{
 "cells": [
  {
   "cell_type": "code",
   "execution_count": null,
   "metadata": {},
   "outputs": [],
   "source": [
    "# !pip install optuna"
   ]
  },
  {
   "cell_type": "code",
   "execution_count": null,
   "metadata": {},
   "outputs": [],
   "source": [
    "import optuna\n",
    "import tensorflow as tf\n",
    "from tensorflow.keras import layers, models"
   ]
  },
  {
   "cell_type": "code",
   "execution_count": null,
   "metadata": {},
   "outputs": [],
   "source": [
    "import sys\n",
    "# Append the directory of the script to sys.path\n",
    "sys.path.append(\"../src/ITM_Classifier-baseline\")\n",
    "\n",
    "# Now you can import the classes\n",
    "from ITM_Classifier_baseline import ITM_DataLoader, ITM_Classifier"
   ]
  },
  {
   "cell_type": "code",
   "execution_count": null,
   "metadata": {},
   "outputs": [],
   "source": [
    "def create_model(trial):\n",
    "    # Define the hyperparameter search space using the trial object\n",
    "    num_layers = trial.suggest_int('num_layers', 1, 3)\n",
    "    dropout_rate = trial.suggest_uniform('dropout_rate', 0.1, 0.5)\n",
    "    learning_rate = trial.suggest_loguniform('learning_rate', 1e-5, 1e-3)\n",
    "    \n",
    "    # Assuming you have modified ITM_Classifier to accept these parameters\n",
    "    itm_classifier = ITM_Classifier(num_layers=num_layers, dropout_rate=dropout_rate)\n",
    "    itm_classifier.learning_rate = learning_rate  # Setting learning rate\n",
    "    return itm_classifier\n",
    "\n",
    "def objective(trial):\n",
    "    # Create the model for this trial\n",
    "    itm_classifier = create_model(trial)\n",
    "    \n",
    "    # Train the model (You may want to limit the number of epochs or use early stopping)\n",
    "    itm_classifier.train_classifier_model()\n",
    "    \n",
    "    # Evaluate the model performance\n",
    "    loss, accuracy = itm_classifier.classifier_model.evaluate(itm_classifier.val_ds)\n",
    "    \n",
    "    # Optuna aims to minimize the objective, so if accuracy is your goal, return 1-accuracy\n",
    "    return 1 - accuracy"
   ]
  },
  {
   "cell_type": "code",
   "execution_count": null,
   "metadata": {},
   "outputs": [],
   "source": [
    "def main():\n",
    "    study = optuna.create_study(direction='minimize')\n",
    "    study.optimize(objective, n_trials=20)  # Specify the number of trials\n",
    "\n",
    "    print('Best trial:')\n",
    "    trial = study.best_trial\n",
    "\n",
    "    print(f'  Value: {1 - trial.value}')\n",
    "    print('  Params: ')\n",
    "    for key, value in trial.params.items():\n",
    "        print(f'    {key}: {value}')"
   ]
  },
  {
   "cell_type": "code",
   "execution_count": null,
   "metadata": {},
   "outputs": [],
   "source": [
    "if __name__ == \"__main__\":\n",
    "    main()"
   ]
  }
 ],
 "metadata": {
  "language_info": {
   "name": "python"
  }
 },
 "nbformat": 4,
 "nbformat_minor": 2
}
