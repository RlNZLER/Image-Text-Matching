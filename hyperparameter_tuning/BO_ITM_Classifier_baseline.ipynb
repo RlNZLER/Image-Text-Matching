{
 "cells": [
  {
   "cell_type": "code",
   "execution_count": null,
   "metadata": {},
   "outputs": [],
   "source": [
    "# !pip install optuna"
   ]
  },
  {
   "cell_type": "code",
   "execution_count": null,
   "metadata": {},
   "outputs": [],
   "source": [
    "import optuna\n",
    "import tensorflow as tf\n",
    "from tensorflow.keras import layers, models"
   ]
  },
  {
   "cell_type": "code",
   "execution_count": null,
   "metadata": {},
   "outputs": [],
   "source": [
    "import sys\n",
    "# Append the directory of the script to sys.path\n",
    "sys.path.append(\"../src/ITM_Classifier-baseline\")\n",
    "\n",
    "# Now you can import the classes\n",
    "from ITM_Classifier_baseline import ITM_DataLoader, ITM_Classifier"
   ]
  },
  {
   "cell_type": "code",
   "execution_count": null,
   "metadata": {},
   "outputs": [],
   "source": [
    "def create_model(trial):\n",
    "    # Define hyperparameters\n",
    "    num_projection_layers = trial.suggest_int('num_projection_layers', 1, 3)\n",
    "    projection_dims = trial.suggest_int('projection_dims', 64, 256)\n",
    "    dropout_rate = trial.suggest_uniform('dropout_rate', 0.1, 0.5)\n",
    "    learning_rate = trial.suggest_loguniform('learning_rate', 1e-5, 1e-3)\n",
    "\n",
    "    # Initialize the ITM Classifier with the suggested hyperparameters\n",
    "    itm_classifier = ITM_Classifier(\n",
    "        num_projection_layers=num_projection_layers, \n",
    "        projection_dims=projection_dims, \n",
    "        dropout_rate=dropout_rate, \n",
    "        learning_rate=learning_rate\n",
    "    )\n",
    "    return itm_classifier\n",
    "\n",
    "def objective(trial):\n",
    "    # Create and train the model\n",
    "    itm_classifier = create_model(trial)\n",
    "    \n",
    "    # Assuming that the `test_classifier_model` method returns the test accuracy\n",
    "    # Modify your ITM_Classifier to return accuracy from `test_classifier_model` if not already\n",
    "    accuracy = itm_classifier.test_classifier_model()\n",
    "    \n",
    "    # Return the negative accuracy since Optuna minimizes the objective\n",
    "    return 1 - accuracy\n"
   ]
  },
  {
   "cell_type": "code",
   "execution_count": null,
   "metadata": {},
   "outputs": [],
   "source": [
    "def main():\n",
    "    study = optuna.create_study(direction='minimize')\n",
    "    study.optimize(objective, n_trials=20)  # Set the number of trials based on your resource availability\n",
    "\n",
    "    print('Best trial:')\n",
    "    trial = study.best_trial\n",
    "\n",
    "    print(f'  Value: {1 - trial.value}')\n",
    "    print('  Params: ')\n",
    "    for key, value in trial.params.items():\n",
    "        print(f'    {key}: {value}')"
   ]
  },
  {
   "cell_type": "code",
   "execution_count": null,
   "metadata": {},
   "outputs": [],
   "source": [
    "if __name__ == \"__main__\":\n",
    "    main()"
   ]
  }
 ],
 "metadata": {
  "language_info": {
   "name": "python"
  }
 },
 "nbformat": 4,
 "nbformat_minor": 2
}
